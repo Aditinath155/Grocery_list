{
  "nbformat": 4,
  "nbformat_minor": 0,
  "metadata": {
    "colab": {
      "provenance": []
    },
    "kernelspec": {
      "name": "python3",
      "display_name": "Python 3"
    },
    "language_info": {
      "name": "python"
    }
  },
  "cells": [
    {
      "cell_type": "code",
      "execution_count": null,
      "metadata": {
        "colab": {
          "base_uri": "https://localhost:8080/"
        },
        "id": "JOftyQacVnn8",
        "outputId": "920c6463-4861-49b6-827e-186b88e12bb4"
      },
      "outputs": [
        {
          "output_type": "stream",
          "name": "stdout",
          "text": [
            "Welcome to the grocery list app\n",
            "Current date and time: 28/01/2023 13:06\n",
            "You currently have  Meat and Cheese  in your list.\n",
            "Type of food to add to the grocery list:milk\n",
            "Type of food to add to the grocery list:butter\n",
            "Type of food to add to the grocery list:ghee\n",
            "\n",
            "Here is your grocery list:  ['Butter', 'Cheese', 'Ghee', 'Meat', 'Milk']\n",
            "Stimulating grocery Shopping\n",
            "\n",
            "Current grocery list: 5 items\n",
            "What food did you just buy: ghee\n",
            "Removing Ghee from list.\n",
            "\n",
            "Current grocery list: 4 items\n",
            "What food did you just buy: meat\n",
            "Removing Meat from list.\n",
            "\n",
            "Current grocery list: 3 items\n",
            "What food did you just buy: milk\n",
            "Removing Milk from list.\n",
            "\n",
            "Current grocery list: 2 items\n",
            "Sorry the store is out of  Butter\n",
            "What food you like instead?goodday\n",
            "Here what remain on your grocery list ['Cheese', 'goodday']\n"
          ]
        }
      ],
      "source": [
        "from datetime import datetime\n",
        "print('Welcome to the grocery list app')\n",
        "now = datetime.now()\n",
        "\n",
        "# dd/mm/YY H:M:S\n",
        "dt_string = now.strftime(\"%d/%m/%Y %H:%M\")\n",
        "print('Current date and time:',dt_string)\n",
        "\n",
        "#GROCERY LIst\n",
        "grocery = ['Meat','Cheese']\n",
        "print(\"You currently have \",grocery[0],'and',grocery[1] ,\" in your list.\")\n",
        "#Get user input\n",
        "\n",
        "user_choice =input('Type of food to add to the grocery list:')\n",
        "grocery.append(user_choice.title())\n",
        "user_choice =input('Type of food to add to the grocery list:')\n",
        "grocery.append(user_choice.title())\n",
        "user_choice =input('Type of food to add to the grocery list:')\n",
        "grocery.append(user_choice.title())\n",
        "\n",
        "#Print the list\n",
        "print('\\nHere is your grocery list: ',sorted(grocery))\n",
        "\n",
        "#Removing\n",
        "print('Stimulating grocery Shopping')\n",
        "\n",
        "print('\\nCurrent grocery list: ' + str(len(grocery))+' items')\n",
        "Food_buy = input('What food did you just buy: ').title()\n",
        "grocery.remove(Food_buy)\n",
        "print('Removing '+ str(Food_buy)+ ' from list.')\n",
        "\n",
        "print('\\nCurrent grocery list: ' + str(len(grocery))+' items')\n",
        "Food_buy = input('What food did you just buy: ').title()\n",
        "grocery.remove(Food_buy)\n",
        "print('Removing '+ str(Food_buy)+ ' from list.')\n",
        "\n",
        "print('\\nCurrent grocery list: ' + str(len(grocery))+' items')\n",
        "Food_buy = input('What food did you just buy: ').title()\n",
        "grocery.remove(Food_buy)\n",
        "print('Removing '+ str(Food_buy)+ ' from list.')\n",
        "\n",
        "print('\\nCurrent grocery list: ' + str(len(grocery))+' items')\n",
        "print('Sorry the store is out of ',grocery[-1])\n",
        "\n",
        "replace = input( 'What food you like instead?')\n",
        "grocery[-1]= replace\n",
        "print('Here what remain on your grocery list',grocery)\n",
        "\n",
        "\n",
        "\n",
        "\n"
      ]
    }
  ]
}